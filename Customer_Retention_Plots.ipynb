{
 "cells": [
  {
   "cell_type": "markdown",
   "id": "2e9137a0",
   "metadata": {},
   "source": [
    "import necessery modules"
   ]
  },
  {
   "cell_type": "code",
   "execution_count": 52,
   "id": "af74b0e9",
   "metadata": {},
   "outputs": [],
   "source": [
    "import pandas as pd\n",
    "import numpy as np\n",
    "import matplotlib.pyplot as plt"
   ]
  },
  {
   "cell_type": "markdown",
   "id": "5ff23fd7",
   "metadata": {},
   "source": [
    "import csv"
   ]
  },
  {
   "cell_type": "code",
   "execution_count": 53,
   "id": "b83aebc7",
   "metadata": {},
   "outputs": [],
   "source": [
    "DAU = pd.read_csv(r'/Users/bartoszbohaterewicz/Desktop/DATA/DAU.csv')\n",
    "P_Data = pd.read_csv(r'/Users/bartoszbohaterewicz/Desktop/DATA/player_info.csv')"
   ]
  },
  {
   "cell_type": "markdown",
   "id": "3276f150",
   "metadata": {},
   "source": [
    "transform to DataFrame"
   ]
  },
  {
   "cell_type": "code",
   "execution_count": 54,
   "id": "e97d1936",
   "metadata": {},
   "outputs": [],
   "source": [
    "DAU = pd.DataFrame(DAU)\n",
    "P_Data = pd.DataFrame(P_Data)"
   ]
  },
  {
   "cell_type": "code",
   "execution_count": 55,
   "id": "0319a75c",
   "metadata": {},
   "outputs": [
    {
     "name": "stdout",
     "output_type": "stream",
     "text": [
      "     DATE_DAY  DAY_OF_GAME  PLAYER_ID PLATFORM  GEMS  ENERGY  LEVEL  \\\n",
      "0  2022-01-21           11      32088      ios     3       0     17   \n",
      "1  2022-01-26           23      27587  android     8       8     28   \n",
      "2  2022-01-26           14      33184  android     2       0     31   \n",
      "3  2022-01-26           23      27256      ios     3      18     51   \n",
      "4  2022-01-26           17      31641  android    15      50     41   \n",
      "\n",
      "  COUNTRY_CODE  PAID_IN_DAY  \n",
      "0           DE            0  \n",
      "1           FR            0  \n",
      "2           ES           10  \n",
      "3           VN            0  \n",
      "4           PL            0  \n",
      "   PLAYER_ID             INSTALL_TIME PLATFORM       MEDIA_SOURCE  \\\n",
      "0      34550  2022-01-14 18:56:53.000  android  googleadwords_int   \n",
      "1      34556  2022-01-14 19:06:06.000  android       Facebook Ads   \n",
      "2      34394  2022-01-14 12:20:28.000  android       Facebook Ads   \n",
      "3      34405  2022-01-14 12:45:46.000  android  googleadwords_int   \n",
      "4      34305  2022-01-14 06:15:41.000  android       Facebook Ads   \n",
      "\n",
      "                         CAMPAIGN  TYPE  \n",
      "0  SR_Android_Tier1_20220104_tCPI  Paid  \n",
      "1   SR_Android_TIER1_20220103_AEO  Paid  \n",
      "2   SR_Android_TIER1_20220103_AEO  Paid  \n",
      "3  SR_Android_Tier1_20220104_tCPI  Paid  \n",
      "4   SR_Android_TIER1_20220103_AEO  Paid  \n"
     ]
    }
   ],
   "source": [
    "print(DAU.head())\n",
    "print(P_Data.head())"
   ]
  },
  {
   "cell_type": "markdown",
   "id": "820738ee",
   "metadata": {},
   "source": [
    "Change blanks to \"no_data\" in both \"source\" and \"campaign\"\n"
   ]
  },
  {
   "cell_type": "code",
   "execution_count": 56,
   "id": "590f99ea",
   "metadata": {},
   "outputs": [],
   "source": [
    "P_Data.loc[P_Data['MEDIA_SOURCE'].str.len() == 0, 'MEDIA_SOURCE'] = np.NaN\n",
    "P_Data['MEDIA_SOURCE'] = P_Data['MEDIA_SOURCE'].fillna('no_data')\n",
    "P_Data.loc[P_Data['CAMPAIGN'].str.len() == 0, 'CAMPAIGN'] = np.NaN\n",
    "P_Data['CAMPAIGN'] = P_Data['CAMPAIGN'].fillna('no_data')"
   ]
  },
  {
   "cell_type": "markdown",
   "id": "a48541cf",
   "metadata": {},
   "source": [
    "Merge both spreadsheets\n"
   ]
  },
  {
   "cell_type": "code",
   "execution_count": 57,
   "id": "9a773e15",
   "metadata": {},
   "outputs": [],
   "source": [
    "New_Data = pd.merge(DAU,P_Data, on = 'PLAYER_ID',how = 'left')"
   ]
  },
  {
   "cell_type": "code",
   "execution_count": 58,
   "id": "29b832de",
   "metadata": {},
   "outputs": [
    {
     "name": "stdout",
     "output_type": "stream",
     "text": [
      "CAMPAIGN\n",
      "Organic                           30618\n",
      "SR_Android_TIER1_20220103_AEO      8827\n",
      "SR_Android_Tier1_20220104_tCPI     2874\n",
      "no_data                            2352\n",
      "SR_Android_US_20211209_AEO         2071\n",
      "restricted                         1793\n",
      "SR_Android_DE_20211209_AEO          686\n",
      "(WW) Slash & Roll Brand              10\n",
      "SR_Android_PL_20210924_AAA            1\n",
      "dtype: int64\n"
     ]
    }
   ],
   "source": [
    "print(New_Data.value_counts(subset = 'CAMPAIGN'))"
   ]
  },
  {
   "cell_type": "markdown",
   "id": "76e47bd1",
   "metadata": {},
   "source": [
    "Create new variables with individual campaigns\n"
   ]
  },
  {
   "cell_type": "code",
   "execution_count": 59,
   "id": "25a0661e",
   "metadata": {},
   "outputs": [],
   "source": [
    "SR_Android_AE0 = New_Data.loc[New_Data['CAMPAIGN'] == 'SR_Android_TIER1_20220103_AEO']\n",
    "SR_Android_tCPI = New_Data.loc[New_Data['CAMPAIGN'] == 'SR_Android_Tier1_20220104_tCPI']\n",
    "no_data =  New_Data.loc[New_Data['CAMPAIGN'] == 'no_data']"
   ]
  },
  {
   "cell_type": "markdown",
   "id": "7ab0ab6b",
   "metadata": {},
   "source": [
    "Create retention plots\n"
   ]
  },
  {
   "cell_type": "code",
   "execution_count": 60,
   "id": "443bee9e",
   "metadata": {},
   "outputs": [
    {
     "data": {
      "image/png": "[encoded data removed]",
      "text/plain": [
       "<Figure size 432x288 with 3 Axes>"
      ]
     },
     "metadata": {
      "needs_background": "light"
     },
     "output_type": "display_data"
    }
   ],
   "source": [
    "xtick_0 = [*range(0,60,5)]\n",
    "plt.figure(1)\n",
    "plt.subplot(2,2,1)\n",
    "SR_Android_AE0['DAY_OF_GAME'].value_counts().plot(kind='line',color='red')\n",
    "plt.title('SR Android AE0 Campaign')\n",
    "plt.xlabel('Day of game')\n",
    "plt.ylim([0,1600])\n",
    "plt.xlim([0,60])\n",
    "plt.xticks(xtick_0)\n",
    "\n",
    "plt.subplot(2,2,2)\n",
    "SR_Android_tCPI['DAY_OF_GAME'].value_counts().plot(kind='line', ax=plt.gca(),color='red')\n",
    "plt.title('SR Android tCPI Campaign')\n",
    "plt.xlabel('Day of game')\n",
    "plt.ylim([0,1000])\n",
    "plt.xlim([0,60])\n",
    "plt.xticks(xtick_0)\n",
    "\n",
    "plt.subplot(2,2,3)\n",
    "no_data['DAY_OF_GAME'].value_counts().plot(kind='line',ax=plt.gca(),color='red')\n",
    "plt.title('No data Campaign')\n",
    "plt.xlabel('Day of game')\n",
    "plt.ylim([0,1000])\n",
    "plt.xlim([0,60])\n",
    "plt.xticks(xtick_0)\n",
    "\n",
    "plt.subplots_adjust(hspace =0.800)\n",
    "plt.show()"
   ]
  }
 ],
 "metadata": {
  "kernelspec": {
   "display_name": "Python 3 (ipykernel)",
   "language": "python",
   "name": "python3"
  },
  "language_info": {
   "codemirror_mode": {
    "name": "ipython",
    "version": 3
   },
   "file_extension": ".py",
   "mimetype": "text/x-python",
   "name": "python",
   "nbconvert_exporter": "python",
   "pygments_lexer": "ipython3",
   "version": "3.9.7"
  }
 },
 "nbformat": 4,
 "nbformat_minor": 5
}
